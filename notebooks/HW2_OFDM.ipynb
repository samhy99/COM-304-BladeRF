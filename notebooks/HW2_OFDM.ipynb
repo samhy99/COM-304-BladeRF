{
 "cells": [
  {
   "cell_type": "markdown",
   "metadata": {},
   "source": [
    "---\n",
    "\n",
    "# Homework 2: OFDM Python Lab\n",
    "\n",
    "**Important Note:** Clone the whole gitHub repo then start working on this file in the cloned repo. \n",
    "There might be some other files in the repo that are used.\n",
    "So if you only download this file and work on it, you might have porblems. \n",
    "\n",
    "The goal of this lab is to understand and implement the OFDM physical layer for the 802.11a standard, more commonly known as Wi-Fi.\n",
    "\n",
    "You are provided with an OFDM signal coming from a multipath, noisy channel that is received (<code>homework_x.npy</code>) and you need to implement the receiver part of the OFDM modem. We will guide you through the different components that need to be implemented in this notebook. Your task in this lab is to fill in the code boxes inside the regions marked as <font color='red'>#YOUR CODE STARTS HERE#</font> and <font color='red'>#YOUR CODE ENDS HERE#</font>. \n",
    "\n",
    "Each code box is given a unique number like \"Box 1\" in order to be used as reference in the instructions. \n",
    "\n",
    "For this, you will need to code the following RX signal chain.\n",
    "\n",
    "* Cyclic Prefix Removal  \n",
    "* Fast Fourrier Transform (FFT)\n",
    "* Channel Estimation\n",
    "* Channel Equalization\n",
    "* Data Decoding\n",
    "\n",
    "In front of some of the boxes there is a written point which shows the points for that box if it is implemented correctly and the obtained result matches the correct results. \n",
    "\n",
    "---\n"
   ]
  },
  {
   "cell_type": "markdown",
   "metadata": {},
   "source": [
    "## Data Extraction\n",
    "First of all you need to import the libraries you will need in this lab. Note that you are free to add any additional libraries that you might need based on your own implementation. \n",
    "The \"helper_functions\" library is a library of some functions that we have written ourselves."
   ]
  },
  {
   "cell_type": "markdown",
   "metadata": {},
   "source": [
    "### Box 1:"
   ]
  },
  {
   "cell_type": "code",
   "execution_count": 2,
   "metadata": {},
   "outputs": [],
   "source": [
    "import sys\n",
    "import numpy as np\n",
    "import matplotlib.pyplot as plt\n",
    "import helper_functions as hf\n",
    "\n",
    "# Import the additional libraries you might use (if any)\n",
    "# YOUR CODE STARTS HERE #\n",
    "\n",
    "# YOUR CODE ENDS HERE #"
   ]
  },
  {
   "cell_type": "markdown",
   "metadata": {},
   "source": [
    "Let's start by opening your specific signal. \n",
    "\n",
    "**Very Important**: You have to download your specific folder from moodle. \n",
    "You have to download the folder number matching the end digit of your SCIPER number. There are ten folders on moodle for the data required for this homework."
   ]
  },
  {
   "cell_type": "markdown",
   "metadata": {},
   "source": [
    "### Box 2:"
   ]
  },
  {
   "cell_type": "code",
   "execution_count": null,
   "metadata": {},
   "outputs": [
    {
     "name": "stdout",
     "output_type": "stream",
     "text": [
      "Please change the filename variable to your homework assignment which is formatted as \"homework00.npy\"\n"
     ]
    }
   ],
   "source": [
    "# Set the folder name to reflect your homework assignment\n",
    "# YOUR CODE STARTS HERE #\n",
    "parent_folder = \"\"\n",
    "filename = parent_folder + \"signal.npy\"\n",
    "# YOUR CODE ENDS HERE #\n",
    "\n",
    "try:\n",
    "    rx_signal = np.load(filename)\n",
    "except:\n",
    "    print(\"Not Found. Please check the folder and filename and try again.\")\n"
   ]
  },
  {
   "cell_type": "markdown",
   "metadata": {},
   "source": [
    "Let's start by defining the basic parameters of our lab, that you will need to use all along the signal chain, which are also known to the transmitter. Note that in this homework, the cyclic prefix is added before the OFDM symbols."
   ]
  },
  {
   "cell_type": "markdown",
   "metadata": {},
   "source": [
    "### Box 3:"
   ]
  },
  {
   "cell_type": "code",
   "execution_count": 186,
   "metadata": {},
   "outputs": [],
   "source": [
    "fs = 20e6 # Sampling rate \n",
    "N = 64 # No. of OFDM sub-carriers \n",
    "\n",
    "n_data = 52 # No. of data sub-carriers\n",
    "cp_len = 16 # No. of cyclic prefix samples\n",
    "\n",
    "n_ofdm = 1000 # No. of OFDM symbols\n",
    "nsym = n_ofdm * n_data # No. of data symbols"
   ]
  },
  {
   "cell_type": "markdown",
   "metadata": {},
   "source": [
    "The preamble bits are used for channel estimation and are known to both the transmitter and the receiver. They are pre-defined and shared between the transmitter and the receiver. Here we actually do not define the bits themselves, but we define the modulated result of the bits (using BPSK). So there is no need to demodulate the received preamble symbols to estimate the channel. "
   ]
  },
  {
   "cell_type": "markdown",
   "metadata": {},
   "source": [
    "### Box 4:"
   ]
  },
  {
   "cell_type": "code",
   "execution_count": 187,
   "metadata": {},
   "outputs": [],
   "source": [
    "# The preamble modulated bits\n",
    "preamble_bits_modulated = np.array([0,0,0,0,0,0,1,1,-1,\\\n",
    "                  -1,1,1,-1,1,-1,1,1,1,\\\n",
    "                  1,1,1,-1,-1,1,1,-1,1,\\\n",
    "                  -1,1,1,1,1,0,1,-1,-1,\\\n",
    "                  1,1,-1,1,-1,1,-1,-1,\\\n",
    "                  -1,-1,-1,1,1,-1,-1,1,\\\n",
    "                  -1,1,-1,1,1,1,1,0,0,0,\\\n",
    "                  0,0])"
   ]
  },
  {
   "cell_type": "markdown",
   "metadata": {},
   "source": [
    "We will start by extracting the preamble symbols and converting them back into frequency-domain using the FFT. They will be used for channel estimation. In this example, we know the exact timing of the beginning of each symbol. However, in practice, this is unknown and an appropriate timing synchronization algorithm must be used to acquire symbol timing. Also, due to oscillator offsets between transmitter and receiver and Doppler effects, a frequency synchronization stage must be performed prior to the FFT in order to minimize the potential for Inter Carrier Interference (ICI). In this lab you do not need to do these synchronizations, you only need to implement the channel estimation.\n",
    "\n",
    "The beginning of the first preamble OFDM symbol is sample 33 i.e. immediately after the 32 sample CP, and of the 2nd one is at 96; each one being of length 64 (in this lab, we will only use 2 preamble symbols).\n",
    "\n",
    "In the following code box, you have to extract the two received preamble OFDM symbols and save them to use them later for channel estimation."
   ]
  },
  {
   "cell_type": "markdown",
   "metadata": {},
   "source": [
    "### Box 5 (5pt):"
   ]
  },
  {
   "cell_type": "code",
   "execution_count": null,
   "metadata": {},
   "outputs": [],
   "source": [
    "# YOUR CODE STARTS HERE #\n",
    "# Extract received preamble OFDM symbols and fill in the variables below\n",
    "rx_preamble_symb_1 = \n",
    "\n",
    "rx_preamble_symb_2 = \n",
    "# YOUR CODE ENDS HERE #\n",
    "\n",
    "print(rx_preamble_symb_1)\n",
    "print(rx_preamble_symb_2)"
   ]
  },
  {
   "cell_type": "markdown",
   "metadata": {},
   "source": [
    "Now, let's take the FFT of each preamble in order to recover the transmitted sequence. <br>\n",
    "Do not forget to use the <code>np.fft.fftshift</code> function in order to shift the 0-frequency component of the FFT to the center of the spectrum.<br>\n",
    "Also, pay attention to the <code>n : int</code> parameter of the Numpy FFT function; what should its value be in this lab?\n",
    "\n",
    "In the following code box, you have to take the FFT of the two extracted preamble symbols to use them later for channel estimation (Don't forget <code>fftshift</code>)."
   ]
  },
  {
   "cell_type": "markdown",
   "metadata": {},
   "source": [
    "### Box 6 (5pt):"
   ]
  },
  {
   "cell_type": "code",
   "execution_count": null,
   "metadata": {},
   "outputs": [],
   "source": [
    "# YOUR CODE STARTS HERE #\n",
    "# Fill in the variables below\n",
    "preamble_symb_demod_1 = \n",
    "\n",
    "preamble_symb_demod_2 = \n",
    "# YOUR CODE ENDS HERE #\n",
    "\n",
    "print(preamble_symb_demod_1)\n",
    "print(preamble_symb_demod_2)"
   ]
  },
  {
   "cell_type": "markdown",
   "metadata": {},
   "source": [
    "As mentioned previously, there will be 52 data sub-carriers in our setup. Nonetheless, and as know, not all data subcarriers are usable. In our case, we will choose to eliminate the DC subcarrier bin, and keep a number of 6 guard subcarriers for the left side of the spectrum and 5 guard subcarriers for the right side of the spectrum, allowing us to minimize interference with adjacent channels. <br>\n",
    "\n",
    "In the following code box, define the indexes that are used for data. You can later use these indexes to access only the data. \n",
    "\n",
    "<i>Hint: use <code>np.arange</code></i>"
   ]
  },
  {
   "cell_type": "markdown",
   "metadata": {},
   "source": [
    "### Box 7 (5pt):"
   ]
  },
  {
   "cell_type": "code",
   "execution_count": null,
   "metadata": {},
   "outputs": [],
   "source": [
    "# YOUR CODE STARTS HERE #\n",
    "# Indices for data sub-carriers (Guard/Unused Subcarriers)\n",
    "ind_1 = np.arange(start=, stop=)\n",
    "ind_2 = np.arange(start=, stop=)\n",
    "index = np.concatenate((ind_1, ind_2), axis=0)\n",
    "# YOUR CODE ENDS HERE #\n",
    "\n",
    "print(index)"
   ]
  },
  {
   "cell_type": "markdown",
   "metadata": {},
   "source": [
    "Now let's extract the data payload OFDM symbols and perform FFTs to recover the underlying data symbols. The CP is removed because it does not contain any information.\n",
    "\n",
    "In the following code box, you have to take FFT of all the OFDM symbols. Note that you have to omit the preamble bits because they are already taken care of. Moreover, please note that you have to remove the CP bits before taking FFT because they contain no information. Don't forget that you have to remove these CP bits for EVERY OFDM symbol. Finally, save the bits after FFT in a new array to use them later. \n",
    "\n",
    "Hint: Use the indexed that you have defined in Box 7 to remove the guardband and the DC bin. "
   ]
  },
  {
   "cell_type": "markdown",
   "metadata": {},
   "source": [
    "### Box 8 (20pt):"
   ]
  },
  {
   "cell_type": "code",
   "execution_count": null,
   "metadata": {},
   "outputs": [],
   "source": [
    "# YOUR CODE STARTS HERE #\n",
    "# Function to demodulate OFDM \n",
    "def ofdm_demod(ofdm_rx, N, cp_len):\n",
    "    \n",
    "    # Remove the CP (Cyclic Prefix)\n",
    "    # Remember that for every OFDM Symbol, there is a CP of length cp_len\n",
    "    \n",
    "    # Perform FFT\n",
    "    # As before, do not forget the 0-frequency alignmnet using np.fft.fftshift\n",
    "    \n",
    "    # Return the data\n",
    "\n",
    "# Array to hold recovered  data symbols  \n",
    "data_rx = np.zeros(n_ofdm*n_data,np.complex64)\n",
    "\n",
    "# Extract data payload (after end of preamble bits)\n",
    "L = len(rx_signal)\n",
    "rxPayload = rx_signal[160:L:1]\n",
    "\n",
    "# Demodulate OFDM symbols in payload\n",
    "# n_ofdm is the total number of OFDM symbols\n",
    "for i in range(n_ofdm):\n",
    "    \n",
    "    # Demodulate OFDM symbols\n",
    "    # You have to give the right chunk of the stream (rxPayload) to the function\n",
    "    rx_demod = ofdm_demod(rxPayload[], N, cp_len)\n",
    "\n",
    "    # Extract data symbols\n",
    "    # Don't forget about the previous cell where you've defined the indexes which contain data\n",
    "    # Add the extracted data to the data_rx stream. You have to use this stream later. \n",
    "    data_rx[] = \n",
    "\n",
    "# YOUR CODE ENDS HERE #\n",
    "\n",
    "np.set_printoptions(threshold=np.inf)\n",
    "print(data_rx)"
   ]
  },
  {
   "cell_type": "markdown",
   "metadata": {},
   "source": [
    "## Channel Estimation <a class=\"anchor\" id=\"chanest\"></a>\n",
    "\n",
    "In this section, we will perform channel estimation. Recall that the channel effect is reduced to a single complex multiplication per sub-carrier. The received symbol on sub-carrier $k$, $Y[k]$, in any given OFDM symbol is given by:    "
   ]
  },
  {
   "cell_type": "markdown",
   "metadata": {},
   "source": [
    "$$ Y[k] = H[k]X[k] + N[k],$$"
   ]
  },
  {
   "cell_type": "markdown",
   "metadata": {},
   "source": [
    "where $X[k]$ is the $k^{th}$ transmitted data symbol, $H[k]$ is the frequency response at sub-carrier $k$ and $N[k]$ is the noise at sub-carrier $k$.  "
   ]
  },
  {
   "cell_type": "markdown",
   "metadata": {},
   "source": [
    "The data symbols transmitted in the preamble symbols are known to the receiver. Therefore, we can estimate the channel by dividing through by $X[k]$, leading to:"
   ]
  },
  {
   "cell_type": "markdown",
   "metadata": {},
   "source": [
    "$$ \\hat{H}[k] = \\frac{Y[k]}{X[k]} = H[k] + \\frac{N[k]}{X[k]} = H[k] + \\alpha_{k}, $$"
   ]
  },
  {
   "cell_type": "markdown",
   "metadata": {},
   "source": [
    "where $\\hat{H}[k]$ is the $k^{th}$ channel estimate. The quantity $W[k]/X[k]$ is an unwanted noise term which we denote as $\\alpha_{k}$. Since we have two OFDM symbols in the preamble, we can generate two channel estimates. You have to extract the symbols on the data sub-carriers, since the null sub-carriers don't carry any information.\n",
    "\n",
    "In the following code box, you have to extract the data subcarriers from the two preamble symbols. \n",
    "\n",
    "Hint: Note that you already took the FFT of the preamble bits in Box 6. You should use the indexes calculated in Box 7 to get rid of the guardbands and DC bin. "
   ]
  },
  {
   "cell_type": "markdown",
   "metadata": {},
   "source": [
    "### Box 9 (5pt):"
   ]
  },
  {
   "cell_type": "code",
   "execution_count": null,
   "metadata": {},
   "outputs": [],
   "source": [
    "# YOUR CODE STARTS HERE #\n",
    "# Extract data sub-carriers\n",
    "data_subcarrier_1 = \n",
    "data_subcarrier_2 = \n",
    "# YOUR CODE ENDS HERE #\n",
    "\n",
    "print(data_subcarrier_1)\n",
    "print(data_subcarrier_2)"
   ]
  },
  {
   "cell_type": "markdown",
   "metadata": {},
   "source": [
    "In the following box, you have to calculate the channel estimation using the received preamble bits and the actual preamble bits. You only have to divide the result of Box 9 and the modulated preamble bits defined in Box 4. Don't forget to also apply the indexes calculated in Box 7 to the modulated preamble bits as well. Do this for both preambles."
   ]
  },
  {
   "cell_type": "markdown",
   "metadata": {},
   "source": [
    "### Box 10 (5pt):"
   ]
  },
  {
   "cell_type": "code",
   "execution_count": null,
   "metadata": {},
   "outputs": [],
   "source": [
    "# YOUR CODE STARTS HERE #\n",
    "h_1 =\n",
    "h_2 =\n",
    "# YOUR CODE ENDS HERE #\n",
    "\n",
    "print(h_1)\n",
    "print(h_2)"
   ]
  },
  {
   "cell_type": "markdown",
   "metadata": {},
   "source": [
    "Since the channel effect is not changing over time (in this simplified case), we can average $h_{1}$ and $h_{2}$ to produce a final channel estimate.\n",
    "\n",
    "In the following box, you have to average the two estimated channels calculated in Box 10."
   ]
  },
  {
   "cell_type": "markdown",
   "metadata": {},
   "source": [
    "### Box 11 (5pt):"
   ]
  },
  {
   "cell_type": "code",
   "execution_count": null,
   "metadata": {},
   "outputs": [],
   "source": [
    "# YOUR CODE STARTS HERE #\n",
    "# Average h_1 and h_2 to get final estimate \n",
    "\n",
    "# YOUR CODE ENDS HERE #"
   ]
  },
  {
   "cell_type": "markdown",
   "metadata": {},
   "source": [
    "## Channel Equalization <a class=\"anchor\" id=\"chaneq\"></a>"
   ]
  },
  {
   "cell_type": "markdown",
   "metadata": {},
   "source": [
    "In OFDM, there are two common equalization methods; the one-tap or Zero Forcing (ZF) equalizer and the Minimum Mean Square Error (MMSE) equalizer. In this section, we will restrict our discussion to the ZF equalizer."
   ]
  },
  {
   "cell_type": "markdown",
   "metadata": {},
   "source": [
    "The one-tap or ZF equalizer is the most computationally efficient equalization method. It is given by: "
   ]
  },
  {
   "cell_type": "markdown",
   "metadata": {},
   "source": [
    "$$ \\hat{X}[k] = \\frac{Y[k]}{\\hat{H}[k]}. $$"
   ]
  },
  {
   "cell_type": "markdown",
   "metadata": {},
   "source": [
    "Before expanding the above equation, let's assume that sufficient time averaging of channel estimates has been performed such that $\\alpha_{k} = 0$. This will simplify the expanded expression. Therefore, we arrive at:"
   ]
  },
  {
   "cell_type": "markdown",
   "metadata": {},
   "source": [
    "$$ \\hat{X}[k] = \\frac{Y[k]}{\\hat{H}[k]} = \\frac{X[k]H[k] + N[k]}{H[k]} = X[k] + \\frac{N[k]}{H[k]}.$$"
   ]
  },
  {
   "cell_type": "markdown",
   "metadata": {},
   "source": [
    "Inspecting the above, we see that the equalized symbol includes an error term, $N[k]/H[k]$. This error term has a detrimental effect on the performance of the ZF equalizer because when $|H[k]|$ is close to zero, i.e. when the channel is in a deep fade, the $N[k]$ or noise term is amplified. Moreover, as the noise power increases, the amplification has a more severe effect. These issues lead to an SNR degradation after the ZF equalizer."
   ]
  },
  {
   "cell_type": "markdown",
   "metadata": {},
   "source": [
    "Based on the procedure for complex division, the ZF equalizer can be re-written as:"
   ]
  },
  {
   "cell_type": "markdown",
   "metadata": {},
   "source": [
    "$$ \\hat{X}[k] = Y[k]\\frac{\\hat{H}^{*}[k]}{|\\hat{H}[k]|^{2}}, $$"
   ]
  },
  {
   "cell_type": "markdown",
   "metadata": {},
   "source": [
    "where * denotes complex conjugation. The term $\\frac{\\hat{H}^{*}[k]}{|\\hat{H}[k]|^{2}}$ is referred to as the ZF equalizer gain. \n",
    "\n",
    "Let's now inspect the received constellation before applying the ZF equalizer.  "
   ]
  },
  {
   "cell_type": "markdown",
   "metadata": {},
   "source": [
    "In the following box, we plot the extracted data (in Box 8), to see that the data is totally distorted before doing the channel equalization. "
   ]
  },
  {
   "cell_type": "markdown",
   "metadata": {},
   "source": [
    "### Box 12:"
   ]
  },
  {
   "cell_type": "code",
   "execution_count": null,
   "metadata": {},
   "outputs": [],
   "source": [
    "hf.scatterplot(data_rx.real,data_rx.imag,ax=None)"
   ]
  },
  {
   "cell_type": "markdown",
   "metadata": {},
   "source": [
    "As you can see in the plot, it is clear that the received constellations are heavily distorted. Without equalization, this would lead to many symbol and bit errors. In the next box, we will equalize the data symbols using the channel estimate from the previous section.\n",
    "\n",
    "In the next box, you have to implement the channel equalization for ALL OFDM symbols using the estimated channel in Box 11 and the explanation in the Channel Equalization section. "
   ]
  },
  {
   "cell_type": "markdown",
   "metadata": {},
   "source": [
    "### Box 13 (10pt):"
   ]
  },
  {
   "cell_type": "code",
   "execution_count": null,
   "metadata": {},
   "outputs": [],
   "source": [
    "# YOUR CODE STARTS HERE #\n",
    "# Equalise data symbols \n",
    "data_eq_zf = np.zeros(n_ofdm*n_data,np.complex64)\n",
    "\n",
    "for i in range (n_ofdm):\n",
    "    # You have to equalize the data symbols using the estimated channel. \n",
    "    # You can simply use the same channel estimate for all the data symbols (the chunk defined below)\n",
    "    data_eq_zf[] = \n",
    "    \n",
    "# YOUR CODE ENSDS HERE #\n",
    "\n",
    "print(data_eq_zf)"
   ]
  },
  {
   "cell_type": "markdown",
   "metadata": {},
   "source": [
    "In the following box, we plot the data after doing the channel equalization. If the constellation is still distorted, and you do not see a clear BPSK modulation, you know that you did something wrong!"
   ]
  },
  {
   "cell_type": "markdown",
   "metadata": {},
   "source": [
    "### Box 14:"
   ]
  },
  {
   "cell_type": "code",
   "execution_count": null,
   "metadata": {},
   "outputs": [],
   "source": [
    "# Plot constellation \n",
    "plt.figure(figsize=(5,5))\n",
    "ax = plt.gca()\n",
    "    \n",
    "ax.scatter(data_eq_zf.real,data_eq_zf.imag)\n",
    "ax.set_title('Constellation plot')\n",
    "ax.set_xlabel('Channel 1 amplitude')\n",
    "ax.set_ylabel('Channel 2 amplitude')\n",
    "ax.axis('equal')\n"
   ]
  },
  {
   "cell_type": "markdown",
   "metadata": {},
   "source": [
    "Now, it's time to demodulate the data symbols we obtained using BPSK. First, implement a simple hard-decision demapper for BPSK symbols. The previous constellation plot might be useful in determining a good threshold. Then demodulate based on this threshold. Note that in our demodulation scheme, the 0 bits are mapped to -1, and the 1 bits are mapped to +1. Please append all the demodulated data (0 and 1 bits) into an array. This array will be used in the final part of the lab. "
   ]
  },
  {
   "cell_type": "markdown",
   "metadata": {},
   "source": [
    "### Box 15 (10pt):"
   ]
  },
  {
   "cell_type": "code",
   "execution_count": null,
   "metadata": {},
   "outputs": [],
   "source": [
    "# YOUR CODE STARTS HERE #\n",
    "# ADD ALL YOUR CODE TO DEMODULATE\n",
    "\n",
    "# FINALLY CONCATANATE ALL THE BITS INTO A SINGLE ARRAY OF BITS\n",
    "text_bits = \n",
    "# YOUR CODE ENDS HERE #\n",
    "\n",
    "print(text_bits)"
   ]
  },
  {
   "cell_type": "markdown",
   "metadata": {},
   "source": [
    "We then provide you with a small piece of code which takes a Numpy array of floating-point 1 or 0s and converts it to their respective UTF-8 characters.\n",
    "\n",
    "In the following box, you only have to give your array calculated in Box 15 to the defined function. Then see if you have done everything right or not. "
   ]
  },
  {
   "cell_type": "markdown",
   "metadata": {},
   "source": [
    "### Box 16 (30pt):"
   ]
  },
  {
   "cell_type": "code",
   "execution_count": 199,
   "metadata": {
    "scrolled": true
   },
   "outputs": [],
   "source": [
    "# Function to convert bits to text \n",
    "def bits_to_text(text_bits):\n",
    "    text_bits = text_bits.astype(int)\n",
    "    byte_array = np.packbits(text_bits)\n",
    "    utf8_string = None\n",
    "    try:\n",
    "        utf8_string = byte_array.tobytes().decode('utf-8')\n",
    "    except:\n",
    "        print(\"The demodulation process didn't go as expected, please double-check your code.\")\n",
    "    print(utf8_string)\n",
    "    \n",
    "# YOUR CODE STARTS HERE #\n",
    "\n",
    "# YOUR CODE ENDS HERE #"
   ]
  },
  {
   "cell_type": "markdown",
   "metadata": {},
   "source": [
    "If you see the <code>\"The demodulation process didn't go as expected, please double-check your code.\"</code> message, it means that you did something wrong. Please double-check and fix the problems. "
   ]
  }
 ],
 "metadata": {
  "kernelspec": {
   "display_name": "Python 3",
   "language": "python",
   "name": "python3"
  },
  "language_info": {
   "codemirror_mode": {
    "name": "ipython",
    "version": 3
   },
   "file_extension": ".py",
   "mimetype": "text/x-python",
   "name": "python",
   "nbconvert_exporter": "python",
   "pygments_lexer": "ipython3",
   "version": "3.9.6"
  }
 },
 "nbformat": 4,
 "nbformat_minor": 4
}
