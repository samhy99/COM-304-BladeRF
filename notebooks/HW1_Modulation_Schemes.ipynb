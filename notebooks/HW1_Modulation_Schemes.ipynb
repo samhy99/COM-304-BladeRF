{
 "cells": [
  {
   "cell_type": "markdown",
   "metadata": {},
   "source": [
    "---\n",
    "\n",
    "## Homework 1: Mysterious Modulation \n",
    "\n",
    "**Important Note:** Clone the whole gitHub repo then start working on this file in the cloned repo. \n",
    "There might be some other files in the repo that are used.\n",
    "So if you only download this file and work on it, you might have porblems. \n",
    "\n",
    "Nowadays, RF signals are everywhere in our society: try to use a spectrum analyser such as the gqrx (https://gqrx.dk/) software together with the bladeRF and try to identify some common signals on the VHF/UHF side of the spectrum; you may use the SigID Wiki (https://www.sigidwiki.com/wiki/Signal_Identification_Guide) which is a comprehensive amateur collection of common signals.\n",
    "\n",
    "Visually, you will see a great range of signal shapes on the waterfall plot (https://en.wikipedia.org/wiki/Waterfall_plot), which indicate different modulation techniques.\n",
    "\n",
    "Alternatively, radio frequency (RF) signals assume integral roles across various facets of our society, functioning systematically to facilitate crucial communication. They range through mobile networks, terrestrial environments (encompassing both line-of-sight and beyond line-of-sight communication channels), satellite-based communications, and even extend to underwater realms.\n",
    "\n",
    "Since the code-breaking programs that took place at Bletchley Park during World War II, the dominance of the electromagnetic spectrum (collection & analysis of signals or disruption of unwanted channels) has been and remains a major technological and political challenge.\n",
    "\n",
    "#### In this lab, you will be assigned 3 Mysterious signals based on common modulation schemes.\n",
    "\n",
    "#### Your objective will be to positively identify them and then demodulate them and recover the \"secret\" message they contain.\n",
    "**Very Important:** There are ten folders on moodle for the data. \n",
    "You must download the file with the number that matches the last digit of your SCIPER number and decode the secrect messages in that folder. \n",
    "Your task is to complete this code by writing the functions 'demodulate_signal_1', 'demodulate_signal_2', and 'demodulate_signal_3'. \n",
    "These functions should demodulate the given signal based on your insights from the constellation plots. \n",
    "\n",
    "After you are done, you should submit the following files on moodle: \n",
    "- Your code \n",
    "- The secret messages you extracted \n",
    "\n",
    "Your grade is specified based on your code and the correct docoded secrect message. \n",
    "\n",
    "<i>For ML enthusiasts: can you find a way to automatically classify and demodulate signals using deep learning?</i>\n",
    "\n",
    "---\n"
   ]
  },
  {
   "cell_type": "markdown",
   "metadata": {},
   "source": [
    "For simplicity, we do not provide an I/Q recording (https://en.wikipedia.org/wiki/In-phase_and_quadrature_components) of a spectrum portion but instead only a noisy, isolated complex baseband signal.\n",
    "Since the signal is already in complex form, you do not need to apply an FFT."
   ]
  },
  {
   "cell_type": "code",
   "execution_count": 222,
   "metadata": {},
   "outputs": [],
   "source": [
    "import numpy as np\n",
    "import matplotlib.pyplot as plt"
   ]
  },
  {
   "cell_type": "code",
   "execution_count": null,
   "metadata": {},
   "outputs": [],
   "source": [
    "# Set the folder name to reflect your homework assignment\n",
    "\n",
    "parent_folder = \"\"\n",
    "try:\n",
    "    rx_signal_1 = np.load(parent_folder + \"signal_1.npy\")\n",
    "    rx_signal_2 = np.load(parent_folder + \"signal_2.npy\")\n",
    "    rx_signal_3 = np.load(parent_folder + \"signal_3.npy\")\n",
    "except:\n",
    "    print(\"Not found. Please change the filename variable to your homework assignment\")\n"
   ]
  },
  {
   "cell_type": "markdown",
   "metadata": {},
   "source": [
    "Let's start by plotting a constellation diagram of our signals:"
   ]
  },
  {
   "cell_type": "code",
   "execution_count": 224,
   "metadata": {},
   "outputs": [],
   "source": [
    "def plot_constellation(signal, signal_name=\"X\"):\n",
    "    plt.figure(figsize=(5,5))\n",
    "    plt.scatter(np.real(signal), np.imag(signal))\n",
    "    plt.title('Constellation diagram of signal ' + signal_name)\n",
    "    plt.xlabel('Channel 1 amplitude')\n",
    "    plt.ylabel('Channel 2 amplitude')\n",
    "    plt.grid()\n",
    "    plt.show()"
   ]
  },
  {
   "cell_type": "code",
   "execution_count": null,
   "metadata": {},
   "outputs": [],
   "source": [
    "plot_constellation(rx_signal_1, \"1\")\n",
    "plot_constellation(rx_signal_2, \"2\")\n",
    "plot_constellation(rx_signal_3, \"3\")"
   ]
  },
  {
   "cell_type": "markdown",
   "metadata": {},
   "source": [
    "Now that you have the constellation diagram of this unknown signal, let's write down some key information:\n",
    "1. How many points are there on the constellation diagram (the constellation size)?\n",
    "2. Is the amplitude constant for every symbol?\n",
    "3. What parameter shifts, and how much times?\n",
    "4. Up to which point is there noise, are the symbols recoverable?\n",
    "    (obviously yes, only, how to recover the data which is more likely)"
   ]
  },
  {
   "cell_type": "markdown",
   "metadata": {},
   "source": [
    "Don't hesitate to check the common digital modulation tehniques on Wikipedia: https://en.wikipedia.org/wiki/Modulation#Digital_modulation_methods"
   ]
  },
  {
   "cell_type": "markdown",
   "metadata": {},
   "source": [
    "After that, write a demodulator which takes every signal as an argument (no need to apply FFT as mentioned before). <br>Your functions shall return standard Python arrays of bits."
   ]
  },
  {
   "cell_type": "code",
   "execution_count": 226,
   "metadata": {},
   "outputs": [],
   "source": [
    "# These are example, hard-decoding solutions\n",
    "def demodulate_signal_1(symbols):\n",
    "    #TODO: Implement a demodulation function for the first signal\n",
    "    return 0\n",
    "# Hint: we are using a Gray coding for each I/Q constellation point \n",
    "def demodulate_signal_2(symbols):\n",
    "    #TODO: Implement a demodulation function for the second signal\n",
    "    return 0\n",
    "\n",
    "# Hint: we use the following constellation table (each entry is an incrementation of the binary value by '1')\n",
    "# [ -3-3j, -3-1j, -3+3j, -3+1j,  \\\n",
    "# -1-3j, -1-1j, -1+3j, -1+1j,  \\\n",
    "# 3-3j,  3-1j,  3+3j,  3+1j,  \\\n",
    "# 1-3j,  1-1j,  1+3j,  1+1j] / np.sqrt(10)\n",
    "\n",
    "def demodulate_signal_3(symbols):\n",
    "    #TODO: Implement a demodulation function for the third signal\n",
    "    return 0"
   ]
  },
  {
   "cell_type": "markdown",
   "metadata": {},
   "source": [
    "Now that you have all the required information, we tell you that the information which is modulated is a simple UTF-8 text. It's your turn to code a simple demodulator for the modulation scheme you have identified."
   ]
  },
  {
   "cell_type": "code",
   "execution_count": null,
   "metadata": {},
   "outputs": [],
   "source": [
    "def utf8_to_text(text_bits):\n",
    "\n",
    "    text_bits = text_bits.astype(int)\n",
    "    byte_array = np.packbits(text_bits)\n",
    "    utf8_string = None\n",
    "    \n",
    "    try:\n",
    "        #TODO: Complete the following line to convert the byte array to a utf-8 string\n",
    "        utf8_string = \n",
    "    except:\n",
    "        print(\"The demodulation process didn't go as expected, please double-check your code.\")\n",
    "\n",
    "    return utf8_string"
   ]
  },
  {
   "cell_type": "markdown",
   "metadata": {},
   "source": [
    "For this homework, each modulation carries the same message, are your 3 recovered strings the same?"
   ]
  },
  {
   "cell_type": "code",
   "execution_count": null,
   "metadata": {},
   "outputs": [],
   "source": [
    "text1 = utf8_to_text(demodulate_signal_1(rx_signal_1))\n",
    "print(text1)\n",
    "\n",
    "text2 = utf8_to_text(demodulate_signal_2(rx_signal_2))\n",
    "print(text2)\n",
    "\n",
    "text3 = utf8_to_text(demodulate_signal_3(rx_signal_3))\n",
    "print(text3)"
   ]
  }
 ],
 "metadata": {
  "kernelspec": {
   "display_name": "Python 3 (ipykernel)",
   "language": "python",
   "name": "python3"
  },
  "language_info": {
   "codemirror_mode": {
    "name": "ipython",
    "version": 3
   },
   "file_extension": ".py",
   "mimetype": "text/x-python",
   "name": "python",
   "nbconvert_exporter": "python",
   "pygments_lexer": "ipython3",
   "version": "3.11.5"
  }
 },
 "nbformat": 4,
 "nbformat_minor": 4
}
