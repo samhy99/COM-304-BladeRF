{
 "cells": [
  {
   "cell_type": "markdown",
   "metadata": {},
   "source": [
    "---\n",
    "\n",
    "# OFDM Python Lab\n",
    "\n",
    "The goal of this lab is to understand and implement the OFDM physical layer for the 802.11a standard, more commonly known as Wi-Fi.\n",
    "\n",
    "You are provided with an OFDM signal coming from a multipath, noisy channel that is received (<code>homework_x.npy</code>) and you need to implement the receiver part of the OFDM modem. We will guide you through the different components that need to be implemented in this notebook. Your task in this lab is to fill in the code boxes inside the regions marked as <font color='red'>#YOUR CODE STARTS HERE#</font> and <font color='red'>#YOUR CODE ENDS HERE#</font>. \n",
    "\n",
    "Each code box is given a unique number like \"Box 1\" in order to be used as reference in the instructions. \n",
    "\n",
    "For this, you will need to code the following RX signal chain.\n",
    "\n",
    "* Cyclic Prefix Removal  \n",
    "* Fast Fourrier Transform (FFT)\n",
    "* Channel Estimation\n",
    "* Channel Equalization\n",
    "* Data Decoding\n",
    "\n",
    "\n",
    "---\n"
   ]
  },
  {
   "cell_type": "markdown",
   "metadata": {},
   "source": [
    "## Data Extraction\n",
    "First of all we need to import the libraries we will need in this lab. Note that you are free to add any additional libraries that you might need based on your own implementation. \n",
    "The \"helper_functions\" library is a library of some functions that we have written ourselves."
   ]
  },
  {
   "cell_type": "markdown",
   "metadata": {},
   "source": [
    "### Box 1:"
   ]
  },
  {
   "cell_type": "code",
   "execution_count": 184,
   "metadata": {},
   "outputs": [],
   "source": [
    "import sys\n",
    "import numpy as np\n",
    "import matplotlib.pyplot as plt\n",
    "import helper_functions as hf\n",
    "\n",
    "# Import the additional libraries you might use (if any)\n",
    "# YOUR CODE STARTS HERE #\n",
    "\n",
    "# YOUR CODE ENDS HERE #"
   ]
  },
  {
   "cell_type": "markdown",
   "metadata": {},
   "source": [
    "Let's start by opening our homework assignment. You have to request the file from us by sending an email. Make sure you change the \"x\" with the number assigned to you."
   ]
  },
  {
   "cell_type": "markdown",
   "metadata": {},
   "source": [
    "### Box 2:"
   ]
  },
  {
   "cell_type": "code",
   "execution_count": 185,
   "metadata": {},
   "outputs": [
    {
     "name": "stdout",
     "output_type": "stream",
     "text": [
      "Please change the filename variable to your homework assignment which is formatted as \"homework00.npy\"\n"
     ]
    }
   ],
   "source": [
    "# Change the signal file name to reflect your assignment\n",
    "# YOUR CODE STARTS HERE #\n",
    "filename = \"homeworkx.npy\"\n",
    "# YOUR CODE ENDS HERE #\n",
    "\n",
    "try:\n",
    "    rx_signal = np.load(filename)\n",
    "except:\n",
    "    print(\"Please change the filename variable to your homework assignment which is formatted as \\\"homework00.npy\\\"\")\n"
   ]
  },
  {
   "cell_type": "markdown",
   "metadata": {},
   "source": [
    "Let's start by defining the basic parameters of our lab, that you will need to use all along the signal chain, which are also known to the transmitter. Note that in this homework, the cyclic prefix is added before the OFDM symbols."
   ]
  },
  {
   "cell_type": "markdown",
   "metadata": {},
   "source": [
    "### Box 3:"
   ]
  },
  {
   "cell_type": "code",
   "execution_count": 186,
   "metadata": {},
   "outputs": [],
   "source": [
    "fs = 20e6 # Sampling rate \n",
    "N = 64 # No. of OFDM sub-carriers \n",
    "\n",
    "n_data = 52 # No. of data sub-carriers\n",
    "cp_len = 16 # No. of cyclic prefix samples\n",
    "\n",
    "n_ofdm = 1000 # No. of OFDM symbols\n",
    "nsym = n_ofdm * n_data # No. of data symbols"
   ]
  },
  {
   "cell_type": "markdown",
   "metadata": {},
   "source": [
    "The preamble bits are used for channel estimation and are known to both the transmitter and the receiver. They are pre-defined and shared between the transmitter and the receiver. Here we actually do not define the bits themselves, but we define the modulated result of the bits (using BPSK). So there is no need to demodulate the received preamble symbols to estimate the channel. "
   ]
  },
  {
   "cell_type": "markdown",
   "metadata": {},
   "source": [
    "### Box 4:"
   ]
  },
  {
   "cell_type": "code",
   "execution_count": 187,
   "metadata": {},
   "outputs": [],
   "source": [
    "# The preamble modulated bits\n",
    "preamble_bits_modulated = np.array([0,0,0,0,0,0,1,1,-1,\\\n",
    "                  -1,1,1,-1,1,-1,1,1,1,\\\n",
    "                  1,1,1,-1,-1,1,1,-1,1,\\\n",
    "                  -1,1,1,1,1,0,1,-1,-1,\\\n",
    "                  1,1,-1,1,-1,1,-1,-1,\\\n",
    "                  -1,-1,-1,1,1,-1,-1,1,\\\n",
    "                  -1,1,-1,1,1,1,1,0,0,0,\\\n",
    "                  0,0])"
   ]
  },
  {
   "cell_type": "markdown",
   "metadata": {},
   "source": [
    "We will start by extracting the preamble symbols and converting them back into frequency-domain using the FFT. They will be used for channel estimation. In this example, we know the exact timing of the beginning of each symbol. However, in practice, this is unknown and an appropriate timing synchronization algorithm must be used to acquire symbol timing. Also, due to oscillator offsets between transmitter and receiver and Doppler effects, a frequency synchronization stage must be performed prior to the FFT in order to minimize the potential for Inter Carrier Interference (ICI). In this lab you do not need to do these synchronizations, you only need to implement the channel estimation.\n",
    "\n",
    "The beginning of the first preamble OFDM symbol is sample 33 i.e. immediately after the 32 sample CP, and of the 2nd one is at 96; each one being of length 64 (in this lab, we will only use 2 preamble symbols).\n",
    "\n",
    "In the following code box, you have to extract the two received preamble OFDM symbols and save them to use them later for channel estimation."
   ]
  },
  {
   "cell_type": "markdown",
   "metadata": {},
   "source": [
    "### Box 5:"
   ]
  },
  {
   "cell_type": "code",
   "execution_count": 188,
   "metadata": {},
   "outputs": [],
   "source": [
    "# YOUR CODE STARTS HERE #\n",
    "\n",
    "# YOUR CODE ENDS HERE #"
   ]
  },
  {
   "cell_type": "markdown",
   "metadata": {},
   "source": [
    "Now, let's take the FFT of each preamble in order to recover the transmitted sequence. <br>\n",
    "Do not forget to use the <code>np.fft.fftshift</code> function in order to shift the 0-frequency component of the FFT to the center of the spectrum.<br>\n",
    "Also, pay attention to the <code>n : int</code> parameter of the Numpy FFT function; what should its value be in this lab?\n",
    "\n",
    "In the following code box, you have to take the FFT of the two extracted preamble symbols to use them later for channel estimation (Don't forget <code>fftshift</code>)."
   ]
  },
  {
   "cell_type": "markdown",
   "metadata": {},
   "source": [
    "### Box 6:"
   ]
  },
  {
   "cell_type": "code",
   "execution_count": 189,
   "metadata": {},
   "outputs": [],
   "source": [
    "# YOUR CODE STARTS HERE #\n",
    "\n",
    "# YOUR CODE ENDS HERE #"
   ]
  },
  {
   "cell_type": "markdown",
   "metadata": {},
   "source": [
    "As mentioned previously, there will be 52 data sub-carriers in our setup. Nonetheless, and as know, not all data subcarriers are usable. In our case, we will choose to eliminate the DC subcarrier bin, and keep a number of 6 guard subcarriers for the left side of the spectrum and 5 guard subcarriers for the right side of the spectrum, allowing us to minimize interference with adjacent channels. <br>\n",
    "\n",
    "In the following code box, define the indexes that are used for data. You can later use these indexes to access only the data. \n",
    "\n",
    "<i>Hint: use <code>np.arange</code></i>"
   ]
  },
  {
   "cell_type": "markdown",
   "metadata": {},
   "source": [
    "### Box 7:"
   ]
  },
  {
   "cell_type": "code",
   "execution_count": 190,
   "metadata": {},
   "outputs": [],
   "source": [
    "# YOUR CODE STARTS HERE #\n",
    "\n",
    "# YOUR CODE ENDS HERE #"
   ]
  },
  {
   "cell_type": "markdown",
   "metadata": {},
   "source": [
    "Now let's extract the data payload OFDM symbols and perform FFTs to recover the underlying data symbols. The CP is removed because it does not contain any information.\n",
    "\n",
    "In the following code box, you have to take FFT of all the OFDM symbols. Note that you have to omit the preamble bits because they are already taken care of. Moreover, please note that you have to remove the CP bits before taking FFT because they contain no information. Don't forget that you have to remove these CP bits for EVERY OFDM symbol. Finally save the bits after FFT in a new array to use them later. \n",
    "\n",
    "Hint: Use the indexed that you have defined in Box 7 to remove the guardband and the DC bin. "
   ]
  },
  {
   "cell_type": "markdown",
   "metadata": {},
   "source": [
    "### Box 8:"
   ]
  },
  {
   "cell_type": "code",
   "execution_count": 191,
   "metadata": {},
   "outputs": [],
   "source": [
    "# YOUR CODE STARTS HERE #\n",
    "\n",
    "# YOUR CODE ENDS HERE #"
   ]
  },
  {
   "cell_type": "markdown",
   "metadata": {},
   "source": [
    "## Channel Estimation <a class=\"anchor\" id=\"chanest\"></a>\n",
    "\n",
    "In this section, we will perform channel estimation. Recall that the channel effect is reduced to a single complex multiplication per sub-carrier. The received symbol on sub-carrier $k$, $Y[k]$, in any given OFDM symbol is given by:    "
   ]
  },
  {
   "cell_type": "markdown",
   "metadata": {},
   "source": [
    "$$ Y[k] = H[k]X[k] + N[k],$$"
   ]
  },
  {
   "cell_type": "markdown",
   "metadata": {},
   "source": [
    "where $X[k]$ is the $k^{th}$ transmitted data symbol, $H[k]$ is the frequency response at sub-carrier $k$ and $N[k]$ is the noise at sub-carrier $k$.  "
   ]
  },
  {
   "cell_type": "markdown",
   "metadata": {},
   "source": [
    "The data symbols transmitted in the preamble symbols are known to the receiver. Therefore, we can estimate the channel by dividing through by $X[k]$, leading to:"
   ]
  },
  {
   "cell_type": "markdown",
   "metadata": {},
   "source": [
    "$$ \\hat{H}[k] = \\frac{Y[k]}{X[k]} = H[k] + \\frac{N[k]}{X[k]} = H[k] + \\alpha_{k}, $$"
   ]
  },
  {
   "cell_type": "markdown",
   "metadata": {},
   "source": [
    "where $\\hat{H}[k]$ is the $k^{th}$ channel estimate. The quantity $W[k]/X[k]$ is an unwanted noise term which we denote as $\\alpha_{k}$. Since we have two OFDM symbols in the preamble, we can generate two channel estimates. You have to extract the symbols on the data sub-carriers, since the null sub-carriers don't carry any information.\n",
    "\n",
    "In the following code box, you have to extract the data subcarriers from the two preamble symbols. \n",
    "\n",
    "Hint: Note that you already took the FFT of the preamble bits in Box 6. You should use the indexes calculated in Box 7 to get rid of the guardbands and DC bin. "
   ]
  },
  {
   "cell_type": "markdown",
   "metadata": {},
   "source": [
    "### Box 9:"
   ]
  },
  {
   "cell_type": "code",
   "execution_count": 192,
   "metadata": {},
   "outputs": [],
   "source": [
    "# YOUR CODE STARTS HERE #\n",
    "\n",
    "# YOUR CODE ENDS HERE #"
   ]
  },
  {
   "cell_type": "markdown",
   "metadata": {},
   "source": [
    "In the following box, you have to calculate the channel estimation using the received preamble bits and the actual preamble bits. You only have to divide the result of Box 9 and the modulated preamble bits defined in Box 4. Don't forget to also apply the indexes calculated in Box 7 to the modulated preamble bits as well. Do this for both preambles."
   ]
  },
  {
   "cell_type": "markdown",
   "metadata": {},
   "source": [
    "### Box 10:"
   ]
  },
  {
   "cell_type": "code",
   "execution_count": 193,
   "metadata": {},
   "outputs": [],
   "source": [
    "# YOUR CODE STARTS HERE #\n",
    "\n",
    "# YOUR CODE ENDS HERE #"
   ]
  },
  {
   "cell_type": "markdown",
   "metadata": {},
   "source": [
    "Since the channel effect is not changing over time (in this simplified case), we can average $h_{1}$ and $h_{2}$ to produce a final channel estimate.\n",
    "\n",
    "In the following box, you have to average the two estimated channels calculated in Box 10."
   ]
  },
  {
   "cell_type": "markdown",
   "metadata": {},
   "source": [
    "### Box 11:"
   ]
  },
  {
   "cell_type": "code",
   "execution_count": 194,
   "metadata": {},
   "outputs": [],
   "source": [
    "# YOUR CODE STARTS HERE #\n",
    "\n",
    "# YOUR CODE ENDS HERE #"
   ]
  },
  {
   "cell_type": "markdown",
   "metadata": {},
   "source": [
    "## Channel Equalisation <a class=\"anchor\" id=\"chaneq\"></a>"
   ]
  },
  {
   "cell_type": "markdown",
   "metadata": {},
   "source": [
    "In OFDM, there are two common equalization methods; the one-tap or Zero Forcing (ZF) equalizer and the Minimum Mean Square Error (MMSE) equalizer. In this section, we will restrict our discussion to the ZF equalizer."
   ]
  },
  {
   "cell_type": "markdown",
   "metadata": {},
   "source": [
    "The one-tap or ZF equalizer is the most computationally efficient equalization method. It is given by: "
   ]
  },
  {
   "cell_type": "markdown",
   "metadata": {},
   "source": [
    "$$ \\hat{X}[k] = \\frac{Y[k]}{\\hat{H}[k]}. $$"
   ]
  },
  {
   "cell_type": "markdown",
   "metadata": {},
   "source": [
    "Before expanding the above equation, let's assume that sufficient time averaging of channel estimates has been performed such that $\\alpha_{k} = 0$. This will simplify the expanded expression. Therefore, we arrive at:"
   ]
  },
  {
   "cell_type": "markdown",
   "metadata": {},
   "source": [
    "$$ \\hat{X}[k] = \\frac{Y[k]}{\\hat{H}[k]} = \\frac{X[k]H[k] + N[k]}{H[k]} = X[k] + \\frac{N[k]}{H[k]}.$$"
   ]
  },
  {
   "cell_type": "markdown",
   "metadata": {},
   "source": [
    "Inspecting the above, we see that the equalized symbol includes an error term, $N[k]/H[k]$. This error term has a detrimental effect on the performance of the ZF equalizer because when $|H[k]|$ is close to zero, i.e. when the channel is in a deep fade, the $N[k]$ or noise term is amplified. Moreover, as the noise power increases, the amplification has a more severe effect. These issues lead to an SNR degradation after the ZF equalizer."
   ]
  },
  {
   "cell_type": "markdown",
   "metadata": {},
   "source": [
    "Based on the procedure for complex division, the ZF equalizer can be re-written as:"
   ]
  },
  {
   "cell_type": "markdown",
   "metadata": {},
   "source": [
    "$$ \\hat{X}[k] = Y[k]\\frac{\\hat{H}^{*}[k]}{|\\hat{H}[k]|^{2}}, $$"
   ]
  },
  {
   "cell_type": "markdown",
   "metadata": {},
   "source": [
    "where * denotes complex conjugation. The term $\\frac{\\hat{H}^{*}[k]}{|\\hat{H}[k]|^{2}}$ is referred to as the ZF equaliser gain. \n",
    "\n",
    "Let's now inspect the received constellation before applying the ZF equalizer.  "
   ]
  },
  {
   "cell_type": "markdown",
   "metadata": {},
   "source": [
    "In the following box, you have to plot the extracted data (in Box 8), to see that the data is totally distorted before doing the channel equalization. \n",
    "\n",
    "Hint: Use the scatterplot to plot the real and imaginary part of the signal in 2D. "
   ]
  },
  {
   "cell_type": "markdown",
   "metadata": {},
   "source": [
    "### Box 12:"
   ]
  },
  {
   "cell_type": "code",
   "execution_count": 195,
   "metadata": {},
   "outputs": [],
   "source": [
    "# YOUR CODE STARTS HERE #\n",
    "\n",
    "# YOUR CODE ENDS HERE #"
   ]
  },
  {
   "cell_type": "markdown",
   "metadata": {},
   "source": [
    "As you can see in the plot, it is clear that the received constellations are heavily distorted. Without equalization, this would lead to a large number of symbol and bit errors. In the next box, we will equalize the data symbols using the channel estimate from the previous section.\n",
    "\n",
    "In the next box, you have to implement the channel equalization for ALL OFDM symbols using the estimated channel in Box 11 and the explanation in the Channel Equalisation section. "
   ]
  },
  {
   "cell_type": "markdown",
   "metadata": {},
   "source": [
    "### Box 13:"
   ]
  },
  {
   "cell_type": "code",
   "execution_count": 196,
   "metadata": {},
   "outputs": [],
   "source": [
    "# YOUR CODE STARTS HERE #\n",
    "\n",
    "# YOUR CODE ENSDS HERE #"
   ]
  },
  {
   "cell_type": "markdown",
   "metadata": {},
   "source": [
    "In the following box, you have to plot the data after doing the channel equalization. Do not forget to make the x-axis and y-axis using the same square scale.  "
   ]
  },
  {
   "cell_type": "markdown",
   "metadata": {},
   "source": [
    "### Box 14:"
   ]
  },
  {
   "cell_type": "code",
   "execution_count": 197,
   "metadata": {},
   "outputs": [],
   "source": [
    "# YOUR CODE STARTS HERE #\n",
    "\n",
    "# YOUR CODE ENDS HERE #"
   ]
  },
  {
   "cell_type": "markdown",
   "metadata": {},
   "source": [
    "Now, it's time to demodulate the data symbols we obtained using BPSK. First, implement a simple hard-decision demapper for BPSK symbols. The previous constellation plot might be useful in determining a good threshold. Then demodulate based on this threshold. Note that in our demodulation scheme, the 0 bits are mapped to -1, and the 1 bits are mapped to +1. Please append all the demodulated data (0 and 1 bits) into an array. This array will be used in the final part of the lab. "
   ]
  },
  {
   "cell_type": "markdown",
   "metadata": {},
   "source": [
    "### Box 15:"
   ]
  },
  {
   "cell_type": "code",
   "execution_count": 198,
   "metadata": {},
   "outputs": [],
   "source": [
    "# YOUR CODE STARTS HERE #\n",
    "\n",
    "# YOUR CODE ENDS HERE #"
   ]
  },
  {
   "cell_type": "markdown",
   "metadata": {},
   "source": [
    "We then provide you with a small piece of code which takes a Numpy array of floating-point 1 or 0s and converts it to their respective UTF-8 characters.\n",
    "\n",
    "In the following box, you only have to give your array calculated in Box 15 to the defined function. Then see if you have done everything right or not. "
   ]
  },
  {
   "cell_type": "markdown",
   "metadata": {},
   "source": [
    "### Box 16:"
   ]
  },
  {
   "cell_type": "code",
   "execution_count": 199,
   "metadata": {
    "scrolled": true
   },
   "outputs": [],
   "source": [
    "# Function to convert bits to text \n",
    "def bits_to_text(text_bits):\n",
    "    text_bits = text_bits.astype(int)\n",
    "    byte_array = np.packbits(text_bits)\n",
    "    utf8_string = None\n",
    "    try:\n",
    "        utf8_string = byte_array.tobytes().decode('utf-8')\n",
    "    except:\n",
    "        print(\"The demodulation process didn't go as expected, please double-check your code.\")\n",
    "    print(utf8_string)\n",
    "    \n",
    "# YOUR CODE STARTS HERE #\n",
    "\n",
    "# YOUR CODE ENDS HERE #"
   ]
  },
  {
   "cell_type": "markdown",
   "metadata": {},
   "source": [
    "If you see the <code>\"The demodulation process didn't go as expected, please double-check your code.\"</code> message, it means that you did something wrong. Please double-check and fix the problems. "
   ]
  }
 ],
 "metadata": {
  "kernelspec": {
   "display_name": "Python 3 (ipykernel)",
   "language": "python",
   "name": "python3"
  },
  "language_info": {
   "codemirror_mode": {
    "name": "ipython",
    "version": 3
   },
   "file_extension": ".py",
   "mimetype": "text/x-python",
   "name": "python",
   "nbconvert_exporter": "python",
   "pygments_lexer": "ipython3",
   "version": "3.11.5"
  }
 },
 "nbformat": 4,
 "nbformat_minor": 4
}
